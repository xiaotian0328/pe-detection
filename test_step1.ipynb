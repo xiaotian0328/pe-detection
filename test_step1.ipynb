{
 "cells": [
  {
   "cell_type": "code",
   "execution_count": 2,
   "metadata": {},
   "outputs": [],
   "source": [
    "import torch\n",
    "from torch import nn\n",
    "from torch.utils.data import DataLoader\n",
    "import torch.optim as optim\n",
    "from torch.optim import lr_scheduler\n",
    "from torchvision import transforms, models\n",
    "from sklearn.model_selection import train_test_split\n",
    "from sklearn.metrics import roc_curve, auc, roc_auc_score, confusion_matrix\n",
    "from sklearn.manifold import TSNE\n",
    "import pandas as pd\n",
    "import numpy as np\n",
    "import matplotlib.pyplot as plt\n",
    "from matplotlib.colors import ListedColormap\n",
    "import pickle\n",
    "import os\n",
    "import math\n",
    "import random\n",
    "from torchsummary import summary\n",
    "\n",
    "from dataset import PEDataset\n",
    "from utils import Timer, AverageMeter"
   ]
  },
  {
   "cell_type": "markdown",
   "metadata": {},
   "source": [
    "## Hyperparameters"
   ]
  },
  {
   "cell_type": "code",
   "execution_count": 3,
   "metadata": {},
   "outputs": [],
   "source": [
    "load_model = 'new/r3d_18_chunk10_batch16_new_splits/epoch9.pth'\n",
    "feature_dir = 'test/features/new/r3d_18_chunk10_batch16_epoch10_new_splits'\n",
    "gpu = 5\n",
    "pos_weight = 1.\n",
    "batch_size = 1\n",
    "chunk_size = 10"
   ]
  },
  {
   "cell_type": "markdown",
   "metadata": {},
   "source": [
    "## Data Splits"
   ]
  },
  {
   "cell_type": "code",
   "execution_count": 4,
   "metadata": {},
   "outputs": [
    {
     "name": "stdout",
     "output_type": "stream",
     "text": [
      "test 1000\n"
     ]
    }
   ],
   "source": [
    "with open('data/data_splits.pkl', 'rb') as f:\n",
    "    data_splits = pickle.load(f)\n",
    "\n",
    "test_paths = data_splits['test_paths']\n",
    "print(\"test {}\".format(len(test_paths)))"
   ]
  },
  {
   "cell_type": "markdown",
   "metadata": {},
   "source": [
    "## Set Dataset"
   ]
  },
  {
   "cell_type": "code",
   "execution_count": 5,
   "metadata": {},
   "outputs": [
    {
     "name": "stderr",
     "output_type": "stream",
     "text": [
      "100%|██████████| 1000/1000 [00:00<00:00, 1196.47it/s]"
     ]
    },
    {
     "name": "stdout",
     "output_type": "stream",
     "text": [
      "step 1 test exams: 1000\n",
      "step 1 test chunks: 26836\n",
      "step 1 test loader iters: 26836\n"
     ]
    },
    {
     "name": "stderr",
     "output_type": "stream",
     "text": [
      "\n"
     ]
    }
   ],
   "source": [
    "transform_test = transforms.Compose([\n",
    "        transforms.ToTensor(),\n",
    "        transforms.Resize((192, 192)),\n",
    "    ])\n",
    "\n",
    "test_set_s1 = PEDataset(paths=test_paths, mode='test', chunk_size=chunk_size,\n",
    "                        transform=transform_test)\n",
    "\n",
    "print(\"step 1 test exams: {}\".format(test_set_s1.get_num_exams()))\n",
    "print(\"step 1 test chunks: {}\".format(len(test_set_s1)))\n",
    "\n",
    "test_loader_s1 = DataLoader(test_set_s1, batch_size=1, shuffle=False)\n",
    "print(\"step 1 test loader iters: {}\".format(len(test_loader_s1)))"
   ]
  },
  {
   "cell_type": "markdown",
   "metadata": {},
   "source": [
    "## Set Model"
   ]
  },
  {
   "cell_type": "code",
   "execution_count": 6,
   "metadata": {},
   "outputs": [
    {
     "name": "stdout",
     "output_type": "stream",
     "text": [
      "\n",
      "Use cuda 5\n",
      "\n",
      "model:\n",
      "----------------------------------------------------------------\n",
      "        Layer (type)               Output Shape         Param #\n",
      "================================================================\n",
      "            Conv3d-1        [1, 64, 10, 96, 96]          28,224\n",
      "       BatchNorm3d-2        [1, 64, 10, 96, 96]             128\n",
      "              ReLU-3        [1, 64, 10, 96, 96]               0\n",
      "      Conv3DSimple-4        [1, 64, 10, 96, 96]         110,592\n",
      "       BatchNorm3d-5        [1, 64, 10, 96, 96]             128\n",
      "              ReLU-6        [1, 64, 10, 96, 96]               0\n",
      "      Conv3DSimple-7        [1, 64, 10, 96, 96]         110,592\n",
      "       BatchNorm3d-8        [1, 64, 10, 96, 96]             128\n",
      "              ReLU-9        [1, 64, 10, 96, 96]               0\n",
      "       BasicBlock-10        [1, 64, 10, 96, 96]               0\n",
      "     Conv3DSimple-11        [1, 64, 10, 96, 96]         110,592\n",
      "      BatchNorm3d-12        [1, 64, 10, 96, 96]             128\n",
      "             ReLU-13        [1, 64, 10, 96, 96]               0\n",
      "     Conv3DSimple-14        [1, 64, 10, 96, 96]         110,592\n",
      "      BatchNorm3d-15        [1, 64, 10, 96, 96]             128\n",
      "             ReLU-16        [1, 64, 10, 96, 96]               0\n",
      "       BasicBlock-17        [1, 64, 10, 96, 96]               0\n",
      "     Conv3DSimple-18        [1, 128, 5, 48, 48]         221,184\n",
      "      BatchNorm3d-19        [1, 128, 5, 48, 48]             256\n",
      "             ReLU-20        [1, 128, 5, 48, 48]               0\n",
      "     Conv3DSimple-21        [1, 128, 5, 48, 48]         442,368\n",
      "      BatchNorm3d-22        [1, 128, 5, 48, 48]             256\n",
      "           Conv3d-23        [1, 128, 5, 48, 48]           8,192\n",
      "      BatchNorm3d-24        [1, 128, 5, 48, 48]             256\n",
      "             ReLU-25        [1, 128, 5, 48, 48]               0\n",
      "       BasicBlock-26        [1, 128, 5, 48, 48]               0\n",
      "     Conv3DSimple-27        [1, 128, 5, 48, 48]         442,368\n",
      "      BatchNorm3d-28        [1, 128, 5, 48, 48]             256\n",
      "             ReLU-29        [1, 128, 5, 48, 48]               0\n",
      "     Conv3DSimple-30        [1, 128, 5, 48, 48]         442,368\n",
      "      BatchNorm3d-31        [1, 128, 5, 48, 48]             256\n",
      "             ReLU-32        [1, 128, 5, 48, 48]               0\n",
      "       BasicBlock-33        [1, 128, 5, 48, 48]               0\n",
      "     Conv3DSimple-34        [1, 256, 3, 24, 24]         884,736\n",
      "      BatchNorm3d-35        [1, 256, 3, 24, 24]             512\n",
      "             ReLU-36        [1, 256, 3, 24, 24]               0\n",
      "     Conv3DSimple-37        [1, 256, 3, 24, 24]       1,769,472\n",
      "      BatchNorm3d-38        [1, 256, 3, 24, 24]             512\n",
      "           Conv3d-39        [1, 256, 3, 24, 24]          32,768\n",
      "      BatchNorm3d-40        [1, 256, 3, 24, 24]             512\n",
      "             ReLU-41        [1, 256, 3, 24, 24]               0\n",
      "       BasicBlock-42        [1, 256, 3, 24, 24]               0\n",
      "     Conv3DSimple-43        [1, 256, 3, 24, 24]       1,769,472\n",
      "      BatchNorm3d-44        [1, 256, 3, 24, 24]             512\n",
      "             ReLU-45        [1, 256, 3, 24, 24]               0\n",
      "     Conv3DSimple-46        [1, 256, 3, 24, 24]       1,769,472\n",
      "      BatchNorm3d-47        [1, 256, 3, 24, 24]             512\n",
      "             ReLU-48        [1, 256, 3, 24, 24]               0\n",
      "       BasicBlock-49        [1, 256, 3, 24, 24]               0\n",
      "     Conv3DSimple-50        [1, 512, 2, 12, 12]       3,538,944\n",
      "      BatchNorm3d-51        [1, 512, 2, 12, 12]           1,024\n",
      "             ReLU-52        [1, 512, 2, 12, 12]               0\n",
      "     Conv3DSimple-53        [1, 512, 2, 12, 12]       7,077,888\n",
      "      BatchNorm3d-54        [1, 512, 2, 12, 12]           1,024\n",
      "           Conv3d-55        [1, 512, 2, 12, 12]         131,072\n",
      "      BatchNorm3d-56        [1, 512, 2, 12, 12]           1,024\n",
      "             ReLU-57        [1, 512, 2, 12, 12]               0\n",
      "       BasicBlock-58        [1, 512, 2, 12, 12]               0\n",
      "     Conv3DSimple-59        [1, 512, 2, 12, 12]       7,077,888\n",
      "      BatchNorm3d-60        [1, 512, 2, 12, 12]           1,024\n",
      "             ReLU-61        [1, 512, 2, 12, 12]               0\n",
      "     Conv3DSimple-62        [1, 512, 2, 12, 12]       7,077,888\n",
      "      BatchNorm3d-63        [1, 512, 2, 12, 12]           1,024\n",
      "             ReLU-64        [1, 512, 2, 12, 12]               0\n",
      "       BasicBlock-65        [1, 512, 2, 12, 12]               0\n",
      "AdaptiveAvgPool3d-66          [1, 512, 1, 1, 1]               0\n",
      "           Linear-67                     [1, 1]             513\n",
      "      VideoResNet-68                     [1, 1]               0\n",
      "================================================================\n",
      "Total params: 33,166,785\n",
      "Trainable params: 33,166,785\n",
      "Non-trainable params: 0\n",
      "----------------------------------------------------------------\n",
      "Input size (MB): 4.22\n",
      "Forward/backward pass size (MB): 1017.00\n",
      "Params size (MB): 126.52\n",
      "Estimated Total Size (MB): 1147.74\n",
      "----------------------------------------------------------------\n",
      "\n",
      "\n"
     ]
    }
   ],
   "source": [
    "if load_model == '':\n",
    "    model = models.video.r3d_18(pretrained=True)\n",
    "    num_features = model.fc.in_features\n",
    "    model.fc = nn.Linear(num_features, 1)\n",
    "else:\n",
    "    model = models.video.r3d_18(pretrained=False)\n",
    "    num_features = model.fc.in_features\n",
    "    model.fc = nn.Linear(num_features, 1)\n",
    "    model.load_state_dict(torch.load(\"weights/\"+load_model))\n",
    "\n",
    "criterion = nn.BCEWithLogitsLoss(pos_weight=torch.tensor([pos_weight]))\n",
    "\n",
    "print('')\n",
    "print(\"Use cuda \" + str(gpu))\n",
    "print('')\n",
    "device = torch.device(\"cuda:\"+str(gpu) if torch.cuda.is_available() else \"cpu\")\n",
    "torch.cuda.empty_cache()\n",
    "model.to(device)\n",
    "criterion.to(device)\n",
    "print(\"model:\")\n",
    "summary(model, input_size=(3, 10, 192, 192), batch_size=batch_size, device=device)\n",
    "print('')"
   ]
  },
  {
   "cell_type": "markdown",
   "metadata": {},
   "source": [
    "## Test Model"
   ]
  },
  {
   "cell_type": "code",
   "execution_count": 7,
   "metadata": {
    "scrolled": true
   },
   "outputs": [
    {
     "name": "stdout",
     "output_type": "stream",
     "text": [
      "100 iters evaluated | time: 36.83\n",
      "200 iters evaluated | time: 34.15\n",
      "300 iters evaluated | time: 42.79\n",
      "400 iters evaluated | time: 47.26\n",
      "500 iters evaluated | time: 51.01\n",
      "600 iters evaluated | time: 56.37\n",
      "700 iters evaluated | time: 52.95\n",
      "800 iters evaluated | time: 56.61\n",
      "900 iters evaluated | time: 49.64\n",
      "1000 iters evaluated | time: 60.15\n",
      "1100 iters evaluated | time: 62.38\n",
      "1200 iters evaluated | time: 66.60\n",
      "1300 iters evaluated | time: 64.20\n",
      "1400 iters evaluated | time: 65.34\n",
      "1500 iters evaluated | time: 64.12\n",
      "1600 iters evaluated | time: 65.80\n",
      "1700 iters evaluated | time: 67.69\n",
      "1800 iters evaluated | time: 68.10\n",
      "1900 iters evaluated | time: 68.69\n",
      "2000 iters evaluated | time: 69.31\n",
      "2100 iters evaluated | time: 68.97\n",
      "2200 iters evaluated | time: 66.82\n",
      "2300 iters evaluated | time: 64.80\n",
      "2400 iters evaluated | time: 66.33\n",
      "2500 iters evaluated | time: 63.55\n",
      "2600 iters evaluated | time: 64.20\n",
      "2700 iters evaluated | time: 68.92\n",
      "2800 iters evaluated | time: 66.62\n",
      "2900 iters evaluated | time: 65.39\n",
      "3000 iters evaluated | time: 62.04\n",
      "3100 iters evaluated | time: 60.65\n",
      "3200 iters evaluated | time: 65.75\n",
      "3300 iters evaluated | time: 61.42\n",
      "3400 iters evaluated | time: 68.64\n",
      "3500 iters evaluated | time: 67.24\n",
      "3600 iters evaluated | time: 67.66\n",
      "3700 iters evaluated | time: 67.39\n",
      "3800 iters evaluated | time: 66.96\n",
      "3900 iters evaluated | time: 67.68\n",
      "4000 iters evaluated | time: 34.95\n",
      "4100 iters evaluated | time: 5.48\n",
      "4200 iters evaluated | time: 3.89\n",
      "4300 iters evaluated | time: 4.20\n",
      "4400 iters evaluated | time: 3.51\n",
      "4500 iters evaluated | time: 3.58\n",
      "4600 iters evaluated | time: 3.45\n",
      "4700 iters evaluated | time: 3.43\n",
      "4800 iters evaluated | time: 3.33\n",
      "4900 iters evaluated | time: 3.38\n",
      "5000 iters evaluated | time: 2.92\n",
      "5100 iters evaluated | time: 3.29\n",
      "5200 iters evaluated | time: 3.07\n",
      "5300 iters evaluated | time: 3.83\n",
      "5400 iters evaluated | time: 3.40\n",
      "5500 iters evaluated | time: 3.06\n",
      "5600 iters evaluated | time: 3.20\n",
      "5700 iters evaluated | time: 3.24\n",
      "5800 iters evaluated | time: 3.13\n",
      "5900 iters evaluated | time: 2.82\n",
      "6000 iters evaluated | time: 3.25\n",
      "6100 iters evaluated | time: 5.61\n",
      "6200 iters evaluated | time: 3.66\n",
      "6300 iters evaluated | time: 3.55\n",
      "6400 iters evaluated | time: 3.62\n",
      "6500 iters evaluated | time: 3.28\n",
      "6600 iters evaluated | time: 4.97\n",
      "6700 iters evaluated | time: 3.97\n",
      "6800 iters evaluated | time: 4.29\n",
      "6900 iters evaluated | time: 5.04\n",
      "7000 iters evaluated | time: 3.58\n",
      "7100 iters evaluated | time: 3.82\n",
      "7200 iters evaluated | time: 2.93\n",
      "7300 iters evaluated | time: 4.95\n",
      "7400 iters evaluated | time: 7.92\n",
      "7500 iters evaluated | time: 62.71\n",
      "7600 iters evaluated | time: 63.28\n",
      "7700 iters evaluated | time: 65.52\n",
      "7800 iters evaluated | time: 68.66\n",
      "7900 iters evaluated | time: 66.77\n",
      "8000 iters evaluated | time: 21.01\n",
      "8100 iters evaluated | time: 4.49\n",
      "8200 iters evaluated | time: 52.77\n",
      "8300 iters evaluated | time: 64.82\n",
      "8400 iters evaluated | time: 66.43\n",
      "8500 iters evaluated | time: 68.24\n",
      "8600 iters evaluated | time: 56.58\n",
      "8700 iters evaluated | time: 65.93\n",
      "8800 iters evaluated | time: 67.60\n",
      "8900 iters evaluated | time: 68.77\n",
      "9000 iters evaluated | time: 65.10\n",
      "9100 iters evaluated | time: 66.60\n",
      "9200 iters evaluated | time: 65.90\n",
      "9300 iters evaluated | time: 66.14\n",
      "9400 iters evaluated | time: 63.91\n",
      "9500 iters evaluated | time: 67.80\n",
      "9600 iters evaluated | time: 67.38\n",
      "9700 iters evaluated | time: 68.09\n",
      "9800 iters evaluated | time: 69.15\n",
      "9900 iters evaluated | time: 67.48\n",
      "10000 iters evaluated | time: 65.03\n",
      "10100 iters evaluated | time: 68.13\n",
      "10200 iters evaluated | time: 69.33\n",
      "10300 iters evaluated | time: 62.11\n",
      "10400 iters evaluated | time: 64.97\n",
      "10500 iters evaluated | time: 67.72\n",
      "10600 iters evaluated | time: 66.89\n",
      "10700 iters evaluated | time: 69.78\n",
      "10800 iters evaluated | time: 67.72\n",
      "10900 iters evaluated | time: 67.34\n",
      "11000 iters evaluated | time: 64.49\n",
      "11100 iters evaluated | time: 63.96\n",
      "11200 iters evaluated | time: 63.26\n",
      "11300 iters evaluated | time: 8.93\n",
      "11400 iters evaluated | time: 2.97\n",
      "11500 iters evaluated | time: 3.04\n",
      "11600 iters evaluated | time: 2.81\n",
      "11700 iters evaluated | time: 3.05\n",
      "11800 iters evaluated | time: 2.82\n",
      "11900 iters evaluated | time: 2.94\n",
      "12000 iters evaluated | time: 2.71\n",
      "12100 iters evaluated | time: 2.92\n",
      "12200 iters evaluated | time: 2.73\n",
      "12300 iters evaluated | time: 2.94\n",
      "12400 iters evaluated | time: 2.83\n",
      "12500 iters evaluated | time: 2.62\n",
      "12600 iters evaluated | time: 2.53\n",
      "12700 iters evaluated | time: 2.59\n",
      "12800 iters evaluated | time: 3.09\n",
      "12900 iters evaluated | time: 2.48\n",
      "13000 iters evaluated | time: 2.67\n",
      "13100 iters evaluated | time: 3.02\n",
      "13200 iters evaluated | time: 2.92\n",
      "13300 iters evaluated | time: 2.89\n",
      "13400 iters evaluated | time: 2.96\n",
      "13500 iters evaluated | time: 2.95\n",
      "13600 iters evaluated | time: 3.26\n",
      "13700 iters evaluated | time: 2.85\n",
      "13800 iters evaluated | time: 2.64\n",
      "13900 iters evaluated | time: 2.73\n",
      "14000 iters evaluated | time: 2.94\n",
      "14100 iters evaluated | time: 2.70\n",
      "14200 iters evaluated | time: 2.98\n",
      "14300 iters evaluated | time: 3.04\n",
      "14400 iters evaluated | time: 2.69\n",
      "14500 iters evaluated | time: 3.25\n",
      "14600 iters evaluated | time: 3.19\n",
      "14700 iters evaluated | time: 2.87\n",
      "14800 iters evaluated | time: 2.99\n",
      "14900 iters evaluated | time: 2.94\n",
      "15000 iters evaluated | time: 2.68\n",
      "15100 iters evaluated | time: 3.12\n",
      "15200 iters evaluated | time: 3.21\n",
      "15300 iters evaluated | time: 3.01\n",
      "15400 iters evaluated | time: 3.17\n",
      "15500 iters evaluated | time: 3.22\n",
      "15600 iters evaluated | time: 2.74\n",
      "15700 iters evaluated | time: 2.66\n",
      "15800 iters evaluated | time: 2.77\n",
      "15900 iters evaluated | time: 3.04\n",
      "16000 iters evaluated | time: 2.74\n",
      "16100 iters evaluated | time: 2.70\n",
      "16200 iters evaluated | time: 2.71\n",
      "16300 iters evaluated | time: 3.03\n",
      "16400 iters evaluated | time: 2.97\n",
      "16500 iters evaluated | time: 3.16\n",
      "16600 iters evaluated | time: 2.89\n",
      "16700 iters evaluated | time: 3.04\n",
      "16800 iters evaluated | time: 3.20\n",
      "16900 iters evaluated | time: 2.72\n",
      "17000 iters evaluated | time: 2.75\n",
      "17100 iters evaluated | time: 2.97\n",
      "17200 iters evaluated | time: 2.95\n",
      "17300 iters evaluated | time: 2.91\n",
      "17400 iters evaluated | time: 2.76\n",
      "17500 iters evaluated | time: 3.06\n",
      "17600 iters evaluated | time: 2.85\n",
      "17700 iters evaluated | time: 2.83\n",
      "17800 iters evaluated | time: 2.84\n",
      "17900 iters evaluated | time: 2.78\n",
      "18000 iters evaluated | time: 2.77\n",
      "18100 iters evaluated | time: 2.90\n",
      "18200 iters evaluated | time: 3.06\n",
      "18300 iters evaluated | time: 2.58\n",
      "18400 iters evaluated | time: 2.49\n",
      "18500 iters evaluated | time: 2.79\n",
      "18600 iters evaluated | time: 2.75\n",
      "18700 iters evaluated | time: 2.72\n",
      "18800 iters evaluated | time: 2.86\n",
      "18900 iters evaluated | time: 2.98\n",
      "19000 iters evaluated | time: 2.84\n",
      "19100 iters evaluated | time: 2.76\n",
      "19200 iters evaluated | time: 2.85\n",
      "19300 iters evaluated | time: 2.81\n",
      "19400 iters evaluated | time: 2.87\n",
      "19500 iters evaluated | time: 2.87\n",
      "19600 iters evaluated | time: 2.68\n",
      "19700 iters evaluated | time: 2.69\n",
      "19800 iters evaluated | time: 3.01\n",
      "19900 iters evaluated | time: 2.73\n",
      "20000 iters evaluated | time: 2.88\n",
      "20100 iters evaluated | time: 3.13\n",
      "20200 iters evaluated | time: 3.19\n",
      "20300 iters evaluated | time: 3.26\n",
      "20400 iters evaluated | time: 4.36\n",
      "20500 iters evaluated | time: 5.28\n",
      "20600 iters evaluated | time: 5.51\n",
      "20700 iters evaluated | time: 4.20\n",
      "20800 iters evaluated | time: 4.38\n",
      "20900 iters evaluated | time: 5.00\n",
      "21000 iters evaluated | time: 5.09\n",
      "21100 iters evaluated | time: 5.21\n",
      "21200 iters evaluated | time: 5.27\n",
      "21300 iters evaluated | time: 4.31\n",
      "21400 iters evaluated | time: 4.64\n",
      "21500 iters evaluated | time: 4.66\n",
      "21600 iters evaluated | time: 5.69\n",
      "21700 iters evaluated | time: 4.42\n",
      "21800 iters evaluated | time: 4.65\n",
      "21900 iters evaluated | time: 5.42\n",
      "22000 iters evaluated | time: 5.02\n",
      "22100 iters evaluated | time: 5.22\n",
      "22200 iters evaluated | time: 6.88\n",
      "22300 iters evaluated | time: 8.53\n",
      "22400 iters evaluated | time: 6.18\n",
      "22500 iters evaluated | time: 4.10\n",
      "22600 iters evaluated | time: 5.25\n",
      "22700 iters evaluated | time: 5.45\n",
      "22800 iters evaluated | time: 6.54\n",
      "22900 iters evaluated | time: 4.69\n",
      "23000 iters evaluated | time: 4.68\n",
      "23100 iters evaluated | time: 4.75\n",
      "23200 iters evaluated | time: 4.22\n",
      "23300 iters evaluated | time: 4.76\n",
      "23400 iters evaluated | time: 4.55\n",
      "23500 iters evaluated | time: 5.25\n"
     ]
    },
    {
     "name": "stdout",
     "output_type": "stream",
     "text": [
      "23600 iters evaluated | time: 4.10\n",
      "23700 iters evaluated | time: 4.84\n",
      "23800 iters evaluated | time: 5.07\n",
      "23900 iters evaluated | time: 4.35\n",
      "24000 iters evaluated | time: 5.98\n",
      "24100 iters evaluated | time: 5.62\n",
      "24200 iters evaluated | time: 3.65\n",
      "24300 iters evaluated | time: 4.66\n",
      "24400 iters evaluated | time: 5.16\n",
      "24500 iters evaluated | time: 4.42\n",
      "24600 iters evaluated | time: 4.29\n",
      "24700 iters evaluated | time: 4.31\n",
      "24800 iters evaluated | time: 6.86\n",
      "24900 iters evaluated | time: 4.12\n",
      "25000 iters evaluated | time: 3.65\n",
      "25100 iters evaluated | time: 4.84\n",
      "25200 iters evaluated | time: 6.38\n",
      "25300 iters evaluated | time: 5.34\n",
      "25400 iters evaluated | time: 5.15\n",
      "25500 iters evaluated | time: 5.80\n",
      "25600 iters evaluated | time: 3.46\n",
      "25700 iters evaluated | time: 5.40\n",
      "25800 iters evaluated | time: 5.77\n",
      "25900 iters evaluated | time: 6.92\n",
      "26000 iters evaluated | time: 4.72\n",
      "26100 iters evaluated | time: 5.14\n",
      "26200 iters evaluated | time: 4.71\n",
      "26300 iters evaluated | time: 4.52\n",
      "26400 iters evaluated | time: 4.82\n",
      "26500 iters evaluated | time: 7.23\n",
      "26600 iters evaluated | time: 4.91\n",
      "26700 iters evaluated | time: 4.74\n",
      "26800 iters evaluated | time: 4.72\n",
      "Loss 0.1502 | Acc 0.9528 | AUC 0.9134\n"
     ]
    }
   ],
   "source": [
    "timer = Timer()\n",
    "\n",
    "model.eval()\n",
    "\n",
    "running_loss = 0.0\n",
    "running_corrects = 0\n",
    "total_samples = 0\n",
    "y_trues = []\n",
    "y_scores = []\n",
    "\n",
    "timer.start()\n",
    "\n",
    "for batch, (inputs, labels) in enumerate(test_loader_s1):\n",
    "    inputs = inputs.to(device)\n",
    "    labels = labels.to(device)\n",
    "\n",
    "    with torch.no_grad():\n",
    "        logit = model(inputs)\n",
    "        loss = criterion(logit.squeeze(-1), labels)\n",
    "\n",
    "        pred_probs = logit.detach().squeeze(-1).sigmoid().cpu().numpy()\n",
    "        running_loss += loss.item() * inputs.size(0)\n",
    "        running_corrects += sum((pred_probs >= 0.5) == labels.cpu().numpy())\n",
    "        total_samples += inputs.size(0)\n",
    "        y_trues.extend(labels.cpu().numpy())\n",
    "        y_scores.extend(pred_probs)\n",
    "\n",
    "    # report loss, accuracy, and AUC every 100 iterations\n",
    "    if batch % 100 == 99:\n",
    "        print('{} iters evaluated | time: {:.2f}'.format(batch+1, timer.stop()))\n",
    "        timer.start()\n",
    "\n",
    "timer.stop()\n",
    "\n",
    "# report epoch loss, accuracy, and AUC\n",
    "test_loss = running_loss / total_samples\n",
    "test_acc = running_corrects / total_samples\n",
    "test_auc = roc_auc_score(y_trues, y_scores)\n",
    "print('Loss {:.4f} | Acc {:.4f} | AUC {:.4f}'.format(test_loss, test_acc, test_auc))"
   ]
  },
  {
   "cell_type": "markdown",
   "metadata": {},
   "source": [
    "## Select thresholds"
   ]
  },
  {
   "cell_type": "code",
   "execution_count": 8,
   "metadata": {},
   "outputs": [],
   "source": [
    "sensitivity = []\n",
    "specificity = []\n",
    "\n",
    "for threshold in np.linspace(0.0, 1.0, 21):\n",
    "    y_preds = (y_scores >= threshold) * 1.\n",
    "    tn, fp, fn, tp = confusion_matrix(y_trues, y_preds).ravel()\n",
    "    sensitivity.append(tp/(tp+fn))\n",
    "    specificity.append(tn/(tn+fp))"
   ]
  },
  {
   "cell_type": "code",
   "execution_count": 9,
   "metadata": {},
   "outputs": [
    {
     "data": {
      "image/png": "[encoded data removed]",
      "text/plain": [
       "<Figure size 720x432 with 1 Axes>"
      ]
     },
     "metadata": {
      "needs_background": "light"
     },
     "output_type": "display_data"
    }
   ],
   "source": [
    "plt.figure(figsize=(10,6))\n",
    "x = np.round(np.linspace(0.0, 1.0, 21), decimals=2)\n",
    "width = 0.4\n",
    "plt.bar(np.arange(len(x))-width/2, sensitivity, width=width, label='sensitivity')\n",
    "plt.bar(np.arange(len(x))+width/2, specificity, width=width, label='specificity')\n",
    "plt.xlabel('Probability threshold')\n",
    "plt.xticks(ticks=np.arange(len(x)), labels=x)\n",
    "plt.yticks(ticks=np.linspace(0., 1., 11))\n",
    "plt.legend(bbox_to_anchor=(0.23, 0.88))\n",
    "plt.tight_layout()\n",
    "plt.show()"
   ]
  },
  {
   "cell_type": "markdown",
   "metadata": {},
   "source": [
    "## Draw ROC Plot"
   ]
  },
  {
   "cell_type": "code",
   "execution_count": 10,
   "metadata": {},
   "outputs": [
    {
     "data": {
      "image/png": "[encoded data removed]",
      "text/plain": [
       "<Figure size 576x432 with 1 Axes>"
      ]
     },
     "metadata": {
      "needs_background": "light"
     },
     "output_type": "display_data"
    }
   ],
   "source": [
    "# Compute ROC curve and ROC area for each class\n",
    "fpr, tpr, _ = roc_curve(y_trues, y_scores)\n",
    "roc_auc = auc(fpr, tpr)\n",
    "\n",
    "plt.figure(figsize=(8, 6))\n",
    "lw = 2\n",
    "plt.plot(fpr, tpr, lw=lw, \n",
    "         label='area = {:0.2f}'.format(roc_auc))\n",
    "plt.plot([0, 1], [0, 1], lw=lw, linestyle='--')\n",
    "plt.xlim([0.0, 1.0])\n",
    "plt.ylim([0.0, 1.05])\n",
    "plt.xlabel('False Positive Rate')\n",
    "plt.ylabel('True Positive Rate')\n",
    "plt.title('Receiver operating characteristic')\n",
    "plt.legend(loc=\"lower right\")\n",
    "plt.show()"
   ]
  },
  {
   "cell_type": "markdown",
   "metadata": {},
   "source": [
    "## Draw t-SNE Plot"
   ]
  },
  {
   "cell_type": "code",
   "execution_count": 5,
   "metadata": {},
   "outputs": [
    {
     "name": "stdout",
     "output_type": "stream",
     "text": [
      "(26836, 512)\n",
      "(26836,)\n"
     ]
    }
   ],
   "source": [
    "test_features = np.load(feature_dir+'/test_features.npy')\n",
    "print(test_features.shape)\n",
    "test_labels = np.load(feature_dir+'/test_labels.npy')\n",
    "print(test_labels.shape)"
   ]
  },
  {
   "cell_type": "code",
   "execution_count": 6,
   "metadata": {},
   "outputs": [],
   "source": [
    "tsne = TSNE(n_components=2, perplexity=50, learning_rate=500, init='pca', verbose=1, random_state=0)"
   ]
  },
  {
   "cell_type": "code",
   "execution_count": 7,
   "metadata": {
    "scrolled": true
   },
   "outputs": [
    {
     "name": "stdout",
     "output_type": "stream",
     "text": [
      "[t-SNE] Computing 151 nearest neighbors...\n",
      "[t-SNE] Indexed 26836 samples in 0.006s...\n",
      "[t-SNE] Computed neighbors for 26836 samples in 12.802s...\n",
      "[t-SNE] Computed conditional probabilities for sample 1000 / 26836\n",
      "[t-SNE] Computed conditional probabilities for sample 2000 / 26836\n",
      "[t-SNE] Computed conditional probabilities for sample 3000 / 26836\n",
      "[t-SNE] Computed conditional probabilities for sample 4000 / 26836\n",
      "[t-SNE] Computed conditional probabilities for sample 5000 / 26836\n",
      "[t-SNE] Computed conditional probabilities for sample 6000 / 26836\n",
      "[t-SNE] Computed conditional probabilities for sample 7000 / 26836\n",
      "[t-SNE] Computed conditional probabilities for sample 8000 / 26836\n",
      "[t-SNE] Computed conditional probabilities for sample 9000 / 26836\n",
      "[t-SNE] Computed conditional probabilities for sample 10000 / 26836\n",
      "[t-SNE] Computed conditional probabilities for sample 11000 / 26836\n",
      "[t-SNE] Computed conditional probabilities for sample 12000 / 26836\n",
      "[t-SNE] Computed conditional probabilities for sample 13000 / 26836\n",
      "[t-SNE] Computed conditional probabilities for sample 14000 / 26836\n",
      "[t-SNE] Computed conditional probabilities for sample 15000 / 26836\n",
      "[t-SNE] Computed conditional probabilities for sample 16000 / 26836\n",
      "[t-SNE] Computed conditional probabilities for sample 17000 / 26836\n",
      "[t-SNE] Computed conditional probabilities for sample 18000 / 26836\n",
      "[t-SNE] Computed conditional probabilities for sample 19000 / 26836\n",
      "[t-SNE] Computed conditional probabilities for sample 20000 / 26836\n",
      "[t-SNE] Computed conditional probabilities for sample 21000 / 26836\n",
      "[t-SNE] Computed conditional probabilities for sample 22000 / 26836\n",
      "[t-SNE] Computed conditional probabilities for sample 23000 / 26836\n",
      "[t-SNE] Computed conditional probabilities for sample 24000 / 26836\n",
      "[t-SNE] Computed conditional probabilities for sample 25000 / 26836\n",
      "[t-SNE] Computed conditional probabilities for sample 26000 / 26836\n",
      "[t-SNE] Computed conditional probabilities for sample 26836 / 26836\n",
      "[t-SNE] Mean sigma: 0.402564\n",
      "[t-SNE] KL divergence after 250 iterations with early exaggeration: 82.133652\n",
      "[t-SNE] KL divergence after 1000 iterations: 1.852433\n"
     ]
    }
   ],
   "source": [
    "test_features_embedded = tsne.fit_transform(test_features)"
   ]
  },
  {
   "cell_type": "code",
   "execution_count": 8,
   "metadata": {
    "scrolled": true
   },
   "outputs": [
    {
     "data": {
      "text/plain": [
       "(26836, 2)"
      ]
     },
     "execution_count": 8,
     "metadata": {},
     "output_type": "execute_result"
    }
   ],
   "source": [
    "test_features_embedded.shape"
   ]
  },
  {
   "cell_type": "code",
   "execution_count": 29,
   "metadata": {},
   "outputs": [
    {
     "data": {
      "image/png": "[encoded data removed]",
      "text/plain": [
       "<Figure size 432x324 with 1 Axes>"
      ]
     },
     "metadata": {},
     "output_type": "display_data"
    }
   ],
   "source": [
    "plt.figure(figsize=(6, 4.5))\n",
    "plt.scatter(test_features_embedded[test_labels==0][:, 0], \n",
    "            test_features_embedded[test_labels==0][:, 1], \n",
    "            s=3, alpha=0.5, label='Negative PE')\n",
    "plt.scatter(test_features_embedded[test_labels==1][:, 0], \n",
    "            test_features_embedded[test_labels==1][:, 1], \n",
    "            s=3, alpha=0.5, label='Positive PE')\n",
    "plt.xticks(ticks=[])\n",
    "plt.yticks(ticks=[])\n",
    "plt.legend(markerscale=4, loc='lower right')\n",
    "# plt.title('TSNE of Extracted Features', fontsize=12)\n",
    "plt.savefig('plot_tsne.jpg', dpi=300)\n",
    "plt.show()"
   ]
  },
  {
   "cell_type": "markdown",
   "metadata": {},
   "source": [
    "## Calculate Manhattan distance"
   ]
  },
  {
   "cell_type": "code",
   "execution_count": 13,
   "metadata": {},
   "outputs": [],
   "source": [
    "import torch\n",
    "import torch.nn as nn\n",
    "import torch.nn.functional as F"
   ]
  },
  {
   "cell_type": "code",
   "execution_count": 14,
   "metadata": {},
   "outputs": [],
   "source": [
    "test_features_tensor = torch.from_numpy(test_features).float().to('cuda:5')"
   ]
  },
  {
   "cell_type": "code",
   "execution_count": 15,
   "metadata": {},
   "outputs": [],
   "source": [
    "test_features_embedded_tensor = torch.from_numpy(test_features_embedded).float().to('cuda:5')"
   ]
  },
  {
   "cell_type": "code",
   "execution_count": 16,
   "metadata": {},
   "outputs": [],
   "source": [
    "test_labels_tensor = torch.from_numpy(test_labels).bool().to('cuda:5')"
   ]
  },
  {
   "cell_type": "code",
   "execution_count": 17,
   "metadata": {
    "scrolled": true
   },
   "outputs": [],
   "source": [
    "center_pos = test_features_tensor[test_labels_tensor].mean(dim=0, keepdim=True)\n",
    "distance_pos = torch.cdist(test_features_tensor[test_labels_tensor], center_pos, p=1).mean()"
   ]
  },
  {
   "cell_type": "code",
   "execution_count": 18,
   "metadata": {},
   "outputs": [
    {
     "data": {
      "text/plain": [
       "tensor(70.1536, device='cuda:5')"
      ]
     },
     "execution_count": 18,
     "metadata": {},
     "output_type": "execute_result"
    }
   ],
   "source": [
    "distance_pos"
   ]
  },
  {
   "cell_type": "code",
   "execution_count": 19,
   "metadata": {},
   "outputs": [],
   "source": [
    "center_neg = test_features_tensor[~test_labels_tensor].mean(dim=0, keepdim=True)\n",
    "distance_neg = torch.cdist(test_features_tensor[~test_labels_tensor], center_neg, p=1).mean()"
   ]
  },
  {
   "cell_type": "code",
   "execution_count": 20,
   "metadata": {},
   "outputs": [
    {
     "data": {
      "text/plain": [
       "tensor(75.7024, device='cuda:5')"
      ]
     },
     "execution_count": 20,
     "metadata": {},
     "output_type": "execute_result"
    }
   ],
   "source": [
    "distance_neg"
   ]
  },
  {
   "cell_type": "code",
   "execution_count": 21,
   "metadata": {},
   "outputs": [],
   "source": [
    "distance = torch.cdist(center_pos, center_neg, p=1).mean()"
   ]
  },
  {
   "cell_type": "code",
   "execution_count": 22,
   "metadata": {},
   "outputs": [
    {
     "data": {
      "text/plain": [
       "tensor(97.2102, device='cuda:5')"
      ]
     },
     "execution_count": 22,
     "metadata": {},
     "output_type": "execute_result"
    }
   ],
   "source": [
    "distance"
   ]
  },
  {
   "cell_type": "code",
   "execution_count": null,
   "metadata": {},
   "outputs": [],
   "source": []
  }
 ],
 "metadata": {
  "kernelspec": {
   "display_name": "Python 3",
   "language": "python",
   "name": "python3"
  },
  "language_info": {
   "codemirror_mode": {
    "name": "ipython",
    "version": 3
   },
   "file_extension": ".py",
   "mimetype": "text/x-python",
   "name": "python",
   "nbconvert_exporter": "python",
   "pygments_lexer": "ipython3",
   "version": "3.6.10"
  }
 },
 "nbformat": 4,
 "nbformat_minor": 4
}

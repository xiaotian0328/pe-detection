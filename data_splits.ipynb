{
 "cells": [
  {
   "cell_type": "code",
   "execution_count": null,
   "metadata": {},
   "outputs": [],
   "source": [
    "import pickle\n",
    "import pandas as pd\n",
    "import numpy as np"
   ]
  },
  {
   "cell_type": "code",
   "execution_count": null,
   "metadata": {},
   "outputs": [],
   "source": [
    "df = pd.read_csv('data/train.csv')\n",
    "study_id_list = df['StudyInstanceUID'].values\n",
    "series_id_list = df['SeriesInstanceUID'].values\n",
    "paths = [study_id_list[i]+'_'+series_id_list[i] for i in range(len(series_id_list))]\n",
    "paths = sorted(list(set(paths)))\n",
    "np.random.seed(100)\n",
    "np.random.shuffle(paths)\n",
    "train_paths = paths[2000:]\n",
    "val_paths = paths[1000:2000]\n",
    "test_paths = paths[:1000]"
   ]
  },
  {
   "cell_type": "code",
   "execution_count": null,
   "metadata": {},
   "outputs": [],
   "source": [
    "data_splits = {'train_paths':train_paths, 'val_paths':val_paths, 'test_paths':test_paths}"
   ]
  },
  {
   "cell_type": "code",
   "execution_count": null,
   "metadata": {},
   "outputs": [],
   "source": [
    "with open('data/data_splits.pkl', 'wb') as f:\n",
    "    pickle.dump(data_splits, f)"
   ]
  },
  {
   "cell_type": "code",
   "execution_count": null,
   "metadata": {},
   "outputs": [],
   "source": []
  }
 ],
 "metadata": {
  "kernelspec": {
   "display_name": "Python 3",
   "language": "python",
   "name": "python3"
  },
  "language_info": {
   "codemirror_mode": {
    "name": "ipython",
    "version": 3
   },
   "file_extension": ".py",
   "mimetype": "text/x-python",
   "name": "python",
   "nbconvert_exporter": "python",
   "pygments_lexer": "ipython3",
   "version": "3.6.10"
  }
 },
 "nbformat": 4,
 "nbformat_minor": 4
}
